{
 "cells": [
  {
   "cell_type": "code",
   "execution_count": 1,
   "id": "dbbb7fba",
   "metadata": {},
   "outputs": [],
   "source": [
    "import  numpy as np\n",
    "import pandas as pd\n",
    "import matplotlib.pyplot as plt\n",
    "import seaborn as sns\n",
    "import os, json"
   ]
  },
  {
   "cell_type": "code",
   "execution_count": 2,
   "id": "8a0b96ba",
   "metadata": {},
   "outputs": [
    {
     "data": {
      "text/html": [
       "<div>\n",
       "<style scoped>\n",
       "    .dataframe tbody tr th:only-of-type {\n",
       "        vertical-align: middle;\n",
       "    }\n",
       "\n",
       "    .dataframe tbody tr th {\n",
       "        vertical-align: top;\n",
       "    }\n",
       "\n",
       "    .dataframe thead th {\n",
       "        text-align: right;\n",
       "    }\n",
       "</style>\n",
       "<table border=\"1\" class=\"dataframe\">\n",
       "  <thead>\n",
       "    <tr style=\"text-align: right;\">\n",
       "      <th></th>\n",
       "      <th>imdb_id</th>\n",
       "      <th>adult</th>\n",
       "      <th>backdrop_path</th>\n",
       "      <th>belongs_to_collection</th>\n",
       "      <th>budget</th>\n",
       "      <th>genres</th>\n",
       "      <th>homepage</th>\n",
       "      <th>id</th>\n",
       "      <th>original_language</th>\n",
       "      <th>original_title</th>\n",
       "      <th>...</th>\n",
       "      <th>revenue</th>\n",
       "      <th>runtime</th>\n",
       "      <th>spoken_languages</th>\n",
       "      <th>status</th>\n",
       "      <th>tagline</th>\n",
       "      <th>title</th>\n",
       "      <th>video</th>\n",
       "      <th>vote_average</th>\n",
       "      <th>vote_count</th>\n",
       "      <th>certificiation</th>\n",
       "    </tr>\n",
       "  </thead>\n",
       "  <tbody>\n",
       "    <tr>\n",
       "      <th>0</th>\n",
       "      <td>0</td>\n",
       "      <td>NaN</td>\n",
       "      <td>NaN</td>\n",
       "      <td>NaN</td>\n",
       "      <td>NaN</td>\n",
       "      <td>NaN</td>\n",
       "      <td>NaN</td>\n",
       "      <td>NaN</td>\n",
       "      <td>NaN</td>\n",
       "      <td>NaN</td>\n",
       "      <td>...</td>\n",
       "      <td>NaN</td>\n",
       "      <td>NaN</td>\n",
       "      <td>NaN</td>\n",
       "      <td>NaN</td>\n",
       "      <td>NaN</td>\n",
       "      <td>NaN</td>\n",
       "      <td>NaN</td>\n",
       "      <td>NaN</td>\n",
       "      <td>NaN</td>\n",
       "      <td>NaN</td>\n",
       "    </tr>\n",
       "    <tr>\n",
       "      <th>1</th>\n",
       "      <td>tt0035423</td>\n",
       "      <td>0.0</td>\n",
       "      <td>/ab5yL8zgRotrICzGbEl10z24N71.jpg</td>\n",
       "      <td>NaN</td>\n",
       "      <td>48000000.0</td>\n",
       "      <td>[{'id': 35, 'name': 'Comedy'}, {'id': 14, 'nam...</td>\n",
       "      <td>NaN</td>\n",
       "      <td>11232.0</td>\n",
       "      <td>en</td>\n",
       "      <td>Kate &amp; Leopold</td>\n",
       "      <td>...</td>\n",
       "      <td>76019048.0</td>\n",
       "      <td>118.0</td>\n",
       "      <td>[{'english_name': 'Italian', 'iso_639_1': 'it'...</td>\n",
       "      <td>Released</td>\n",
       "      <td>If they lived in the same century they'd be pe...</td>\n",
       "      <td>Kate &amp; Leopold</td>\n",
       "      <td>0.0</td>\n",
       "      <td>6.321</td>\n",
       "      <td>1145.0</td>\n",
       "      <td>PG-13</td>\n",
       "    </tr>\n",
       "    <tr>\n",
       "      <th>2</th>\n",
       "      <td>tt0062336</td>\n",
       "      <td>0.0</td>\n",
       "      <td>/fw5tsNib4QZBEw18xmebpVe3WZ8.jpg</td>\n",
       "      <td>NaN</td>\n",
       "      <td>0.0</td>\n",
       "      <td>[{'id': 18, 'name': 'Drama'}, {'id': 14, 'name...</td>\n",
       "      <td>http://poetastros.com/el-tango-del-viudo/</td>\n",
       "      <td>602986.0</td>\n",
       "      <td>es</td>\n",
       "      <td>El tango del viudo y su espejo deformante</td>\n",
       "      <td>...</td>\n",
       "      <td>0.0</td>\n",
       "      <td>63.0</td>\n",
       "      <td>[{'english_name': 'Spanish', 'iso_639_1': 'es'...</td>\n",
       "      <td>Released</td>\n",
       "      <td>NaN</td>\n",
       "      <td>The Tango of the Widower and Its Distorting Mi...</td>\n",
       "      <td>0.0</td>\n",
       "      <td>5.500</td>\n",
       "      <td>4.0</td>\n",
       "      <td>NaN</td>\n",
       "    </tr>\n",
       "    <tr>\n",
       "      <th>3</th>\n",
       "      <td>tt0069049</td>\n",
       "      <td>0.0</td>\n",
       "      <td>/zjG95oDnBcFKMPgBEmmuNVOMC90.jpg</td>\n",
       "      <td>NaN</td>\n",
       "      <td>12000000.0</td>\n",
       "      <td>[{'id': 18, 'name': 'Drama'}]</td>\n",
       "      <td>https://www.netflix.com/title/80085566</td>\n",
       "      <td>299782.0</td>\n",
       "      <td>en</td>\n",
       "      <td>The Other Side of the Wind</td>\n",
       "      <td>...</td>\n",
       "      <td>0.0</td>\n",
       "      <td>122.0</td>\n",
       "      <td>[{'english_name': 'English', 'iso_639_1': 'en'...</td>\n",
       "      <td>Released</td>\n",
       "      <td>40 years in the making</td>\n",
       "      <td>The Other Side of the Wind</td>\n",
       "      <td>0.0</td>\n",
       "      <td>6.700</td>\n",
       "      <td>161.0</td>\n",
       "      <td>R</td>\n",
       "    </tr>\n",
       "    <tr>\n",
       "      <th>4</th>\n",
       "      <td>tt0079644</td>\n",
       "      <td>0.0</td>\n",
       "      <td>/79axmuH1UGkB7m72jjB9rPff9om.jpg</td>\n",
       "      <td>NaN</td>\n",
       "      <td>0.0</td>\n",
       "      <td>[{'id': 10752, 'name': 'War'}]</td>\n",
       "      <td>NaN</td>\n",
       "      <td>285529.0</td>\n",
       "      <td>id</td>\n",
       "      <td>November 1828</td>\n",
       "      <td>...</td>\n",
       "      <td>0.0</td>\n",
       "      <td>140.0</td>\n",
       "      <td>[{'english_name': 'Indonesian', 'iso_639_1': '...</td>\n",
       "      <td>Released</td>\n",
       "      <td>NaN</td>\n",
       "      <td>November 1828</td>\n",
       "      <td>0.0</td>\n",
       "      <td>0.000</td>\n",
       "      <td>0.0</td>\n",
       "      <td>NaN</td>\n",
       "    </tr>\n",
       "  </tbody>\n",
       "</table>\n",
       "<p>5 rows × 26 columns</p>\n",
       "</div>"
      ],
      "text/plain": [
       "     imdb_id  adult                     backdrop_path belongs_to_collection  \\\n",
       "0          0    NaN                               NaN                   NaN   \n",
       "1  tt0035423    0.0  /ab5yL8zgRotrICzGbEl10z24N71.jpg                   NaN   \n",
       "2  tt0062336    0.0  /fw5tsNib4QZBEw18xmebpVe3WZ8.jpg                   NaN   \n",
       "3  tt0069049    0.0  /zjG95oDnBcFKMPgBEmmuNVOMC90.jpg                   NaN   \n",
       "4  tt0079644    0.0  /79axmuH1UGkB7m72jjB9rPff9om.jpg                   NaN   \n",
       "\n",
       "       budget                                             genres  \\\n",
       "0         NaN                                                NaN   \n",
       "1  48000000.0  [{'id': 35, 'name': 'Comedy'}, {'id': 14, 'nam...   \n",
       "2         0.0  [{'id': 18, 'name': 'Drama'}, {'id': 14, 'name...   \n",
       "3  12000000.0                      [{'id': 18, 'name': 'Drama'}]   \n",
       "4         0.0                     [{'id': 10752, 'name': 'War'}]   \n",
       "\n",
       "                                    homepage        id original_language  \\\n",
       "0                                        NaN       NaN               NaN   \n",
       "1                                        NaN   11232.0                en   \n",
       "2  http://poetastros.com/el-tango-del-viudo/  602986.0                es   \n",
       "3     https://www.netflix.com/title/80085566  299782.0                en   \n",
       "4                                        NaN  285529.0                id   \n",
       "\n",
       "                              original_title  ...     revenue  runtime  \\\n",
       "0                                        NaN  ...         NaN      NaN   \n",
       "1                             Kate & Leopold  ...  76019048.0    118.0   \n",
       "2  El tango del viudo y su espejo deformante  ...         0.0     63.0   \n",
       "3                 The Other Side of the Wind  ...         0.0    122.0   \n",
       "4                              November 1828  ...         0.0    140.0   \n",
       "\n",
       "                                    spoken_languages    status  \\\n",
       "0                                                NaN       NaN   \n",
       "1  [{'english_name': 'Italian', 'iso_639_1': 'it'...  Released   \n",
       "2  [{'english_name': 'Spanish', 'iso_639_1': 'es'...  Released   \n",
       "3  [{'english_name': 'English', 'iso_639_1': 'en'...  Released   \n",
       "4  [{'english_name': 'Indonesian', 'iso_639_1': '...  Released   \n",
       "\n",
       "                                             tagline  \\\n",
       "0                                                NaN   \n",
       "1  If they lived in the same century they'd be pe...   \n",
       "2                                                NaN   \n",
       "3                             40 years in the making   \n",
       "4                                                NaN   \n",
       "\n",
       "                                               title  video  vote_average  \\\n",
       "0                                                NaN    NaN           NaN   \n",
       "1                                     Kate & Leopold    0.0         6.321   \n",
       "2  The Tango of the Widower and Its Distorting Mi...    0.0         5.500   \n",
       "3                         The Other Side of the Wind    0.0         6.700   \n",
       "4                                      November 1828    0.0         0.000   \n",
       "\n",
       "  vote_count certificiation  \n",
       "0        NaN            NaN  \n",
       "1     1145.0          PG-13  \n",
       "2        4.0            NaN  \n",
       "3      161.0              R  \n",
       "4        0.0            NaN  \n",
       "\n",
       "[5 rows x 26 columns]"
      ]
     },
     "execution_count": 2,
     "metadata": {},
     "output_type": "execute_result"
    }
   ],
   "source": [
    "df_2000=pd.read_csv('Data/final_tmdb_data_2000.csv.gz')\n",
    "df_2000.head()"
   ]
  },
  {
   "cell_type": "code",
   "execution_count": 3,
   "id": "e3a92f07",
   "metadata": {},
   "outputs": [
    {
     "name": "stdout",
     "output_type": "stream",
     "text": [
      "<class 'pandas.core.frame.DataFrame'>\n",
      "RangeIndex: 2480 entries, 0 to 2479\n",
      "Data columns (total 26 columns):\n",
      " #   Column                 Non-Null Count  Dtype  \n",
      "---  ------                 --------------  -----  \n",
      " 0   imdb_id                2480 non-null   object \n",
      " 1   adult                  2479 non-null   float64\n",
      " 2   backdrop_path          1122 non-null   object \n",
      " 3   belongs_to_collection  159 non-null    object \n",
      " 4   budget                 2479 non-null   float64\n",
      " 5   genres                 2479 non-null   object \n",
      " 6   homepage               124 non-null    object \n",
      " 7   id                     2479 non-null   float64\n",
      " 8   original_language      2479 non-null   object \n",
      " 9   original_title         2479 non-null   object \n",
      " 10  overview               2291 non-null   object \n",
      " 11  popularity             2479 non-null   float64\n",
      " 12  poster_path            2099 non-null   object \n",
      " 13  production_companies   2479 non-null   object \n",
      " 14  production_countries   2479 non-null   object \n",
      " 15  release_date           2461 non-null   object \n",
      " 16  revenue                2479 non-null   float64\n",
      " 17  runtime                2479 non-null   float64\n",
      " 18  spoken_languages       2479 non-null   object \n",
      " 19  status                 2479 non-null   object \n",
      " 20  tagline                756 non-null    object \n",
      " 21  title                  2479 non-null   object \n",
      " 22  video                  2479 non-null   float64\n",
      " 23  vote_average           2479 non-null   float64\n",
      " 24  vote_count             2479 non-null   float64\n",
      " 25  certificiation         515 non-null    object \n",
      "dtypes: float64(9), object(17)\n",
      "memory usage: 503.9+ KB\n"
     ]
    }
   ],
   "source": [
    "df_2000.info()"
   ]
  },
  {
   "cell_type": "code",
   "execution_count": 4,
   "id": "d2a10bc4",
   "metadata": {},
   "outputs": [
    {
     "data": {
      "text/plain": [
       "0"
      ]
     },
     "execution_count": 4,
     "metadata": {},
     "output_type": "execute_result"
    }
   ],
   "source": [
    "df_2000.duplicated().sum()"
   ]
  },
  {
   "cell_type": "code",
   "execution_count": 5,
   "id": "e0b998bb",
   "metadata": {},
   "outputs": [
    {
     "data": {
      "text/html": [
       "<div>\n",
       "<style scoped>\n",
       "    .dataframe tbody tr th:only-of-type {\n",
       "        vertical-align: middle;\n",
       "    }\n",
       "\n",
       "    .dataframe tbody tr th {\n",
       "        vertical-align: top;\n",
       "    }\n",
       "\n",
       "    .dataframe thead th {\n",
       "        text-align: right;\n",
       "    }\n",
       "</style>\n",
       "<table border=\"1\" class=\"dataframe\">\n",
       "  <thead>\n",
       "    <tr style=\"text-align: right;\">\n",
       "      <th></th>\n",
       "      <th>imdb_id</th>\n",
       "      <th>adult</th>\n",
       "      <th>backdrop_path</th>\n",
       "      <th>belongs_to_collection</th>\n",
       "      <th>budget</th>\n",
       "      <th>genres</th>\n",
       "      <th>homepage</th>\n",
       "      <th>id</th>\n",
       "      <th>original_language</th>\n",
       "      <th>original_title</th>\n",
       "      <th>...</th>\n",
       "      <th>revenue</th>\n",
       "      <th>runtime</th>\n",
       "      <th>spoken_languages</th>\n",
       "      <th>status</th>\n",
       "      <th>tagline</th>\n",
       "      <th>title</th>\n",
       "      <th>video</th>\n",
       "      <th>vote_average</th>\n",
       "      <th>vote_count</th>\n",
       "      <th>certificiation</th>\n",
       "    </tr>\n",
       "  </thead>\n",
       "  <tbody>\n",
       "    <tr>\n",
       "      <th>0</th>\n",
       "      <td>0</td>\n",
       "      <td>NaN</td>\n",
       "      <td>NaN</td>\n",
       "      <td>NaN</td>\n",
       "      <td>NaN</td>\n",
       "      <td>NaN</td>\n",
       "      <td>NaN</td>\n",
       "      <td>NaN</td>\n",
       "      <td>NaN</td>\n",
       "      <td>NaN</td>\n",
       "      <td>...</td>\n",
       "      <td>NaN</td>\n",
       "      <td>NaN</td>\n",
       "      <td>NaN</td>\n",
       "      <td>NaN</td>\n",
       "      <td>NaN</td>\n",
       "      <td>NaN</td>\n",
       "      <td>NaN</td>\n",
       "      <td>NaN</td>\n",
       "      <td>NaN</td>\n",
       "      <td>NaN</td>\n",
       "    </tr>\n",
       "    <tr>\n",
       "      <th>1</th>\n",
       "      <td>tt0035423</td>\n",
       "      <td>0.0</td>\n",
       "      <td>/ab5yL8zgRotrICzGbEl10z24N71.jpg</td>\n",
       "      <td>NaN</td>\n",
       "      <td>48000000.0</td>\n",
       "      <td>[{'id': 35, 'name': 'Comedy'}, {'id': 14, 'nam...</td>\n",
       "      <td>NaN</td>\n",
       "      <td>11232.0</td>\n",
       "      <td>en</td>\n",
       "      <td>Kate &amp; Leopold</td>\n",
       "      <td>...</td>\n",
       "      <td>76019048.0</td>\n",
       "      <td>118.0</td>\n",
       "      <td>[{'english_name': 'Italian', 'iso_639_1': 'it'...</td>\n",
       "      <td>Released</td>\n",
       "      <td>If they lived in the same century they'd be pe...</td>\n",
       "      <td>Kate &amp; Leopold</td>\n",
       "      <td>0.0</td>\n",
       "      <td>6.321</td>\n",
       "      <td>1145.0</td>\n",
       "      <td>PG-13</td>\n",
       "    </tr>\n",
       "    <tr>\n",
       "      <th>2</th>\n",
       "      <td>tt0079644</td>\n",
       "      <td>0.0</td>\n",
       "      <td>/79axmuH1UGkB7m72jjB9rPff9om.jpg</td>\n",
       "      <td>NaN</td>\n",
       "      <td>0.0</td>\n",
       "      <td>[{'id': 10752, 'name': 'War'}]</td>\n",
       "      <td>NaN</td>\n",
       "      <td>285529.0</td>\n",
       "      <td>id</td>\n",
       "      <td>November 1828</td>\n",
       "      <td>...</td>\n",
       "      <td>0.0</td>\n",
       "      <td>140.0</td>\n",
       "      <td>[{'english_name': 'Indonesian', 'iso_639_1': '...</td>\n",
       "      <td>Released</td>\n",
       "      <td>NaN</td>\n",
       "      <td>November 1828</td>\n",
       "      <td>0.0</td>\n",
       "      <td>0.000</td>\n",
       "      <td>0.0</td>\n",
       "      <td>NaN</td>\n",
       "    </tr>\n",
       "    <tr>\n",
       "      <th>3</th>\n",
       "      <td>tt0089067</td>\n",
       "      <td>0.0</td>\n",
       "      <td>NaN</td>\n",
       "      <td>NaN</td>\n",
       "      <td>0.0</td>\n",
       "      <td>[{'id': 35, 'name': 'Comedy'}]</td>\n",
       "      <td>NaN</td>\n",
       "      <td>210258.0</td>\n",
       "      <td>es</td>\n",
       "      <td>El día de los albañiles 2</td>\n",
       "      <td>...</td>\n",
       "      <td>0.0</td>\n",
       "      <td>90.0</td>\n",
       "      <td>[{'english_name': 'Spanish', 'iso_639_1': 'es'...</td>\n",
       "      <td>Released</td>\n",
       "      <td>The laborers are back full of love and laughs.</td>\n",
       "      <td>El día de los albañiles 2</td>\n",
       "      <td>0.0</td>\n",
       "      <td>7.200</td>\n",
       "      <td>71.0</td>\n",
       "      <td>NaN</td>\n",
       "    </tr>\n",
       "    <tr>\n",
       "      <th>4</th>\n",
       "      <td>tt0114447</td>\n",
       "      <td>0.0</td>\n",
       "      <td>NaN</td>\n",
       "      <td>NaN</td>\n",
       "      <td>0.0</td>\n",
       "      <td>[{'id': 53, 'name': 'Thriller'}, {'id': 28, 'n...</td>\n",
       "      <td>NaN</td>\n",
       "      <td>151007.0</td>\n",
       "      <td>en</td>\n",
       "      <td>The Silent Force</td>\n",
       "      <td>...</td>\n",
       "      <td>0.0</td>\n",
       "      <td>90.0</td>\n",
       "      <td>[{'english_name': 'English', 'iso_639_1': 'en'...</td>\n",
       "      <td>Released</td>\n",
       "      <td>They left him for dead... They should have fin...</td>\n",
       "      <td>The Silent Force</td>\n",
       "      <td>0.0</td>\n",
       "      <td>5.000</td>\n",
       "      <td>3.0</td>\n",
       "      <td>NaN</td>\n",
       "    </tr>\n",
       "  </tbody>\n",
       "</table>\n",
       "<p>5 rows × 26 columns</p>\n",
       "</div>"
      ],
      "text/plain": [
       "     imdb_id  adult                     backdrop_path belongs_to_collection  \\\n",
       "0          0    NaN                               NaN                   NaN   \n",
       "1  tt0035423    0.0  /ab5yL8zgRotrICzGbEl10z24N71.jpg                   NaN   \n",
       "2  tt0079644    0.0  /79axmuH1UGkB7m72jjB9rPff9om.jpg                   NaN   \n",
       "3  tt0089067    0.0                               NaN                   NaN   \n",
       "4  tt0114447    0.0                               NaN                   NaN   \n",
       "\n",
       "       budget                                             genres homepage  \\\n",
       "0         NaN                                                NaN      NaN   \n",
       "1  48000000.0  [{'id': 35, 'name': 'Comedy'}, {'id': 14, 'nam...      NaN   \n",
       "2         0.0                     [{'id': 10752, 'name': 'War'}]      NaN   \n",
       "3         0.0                     [{'id': 35, 'name': 'Comedy'}]      NaN   \n",
       "4         0.0  [{'id': 53, 'name': 'Thriller'}, {'id': 28, 'n...      NaN   \n",
       "\n",
       "         id original_language             original_title  ...     revenue  \\\n",
       "0       NaN               NaN                        NaN  ...         NaN   \n",
       "1   11232.0                en             Kate & Leopold  ...  76019048.0   \n",
       "2  285529.0                id              November 1828  ...         0.0   \n",
       "3  210258.0                es  El día de los albañiles 2  ...         0.0   \n",
       "4  151007.0                en           The Silent Force  ...         0.0   \n",
       "\n",
       "   runtime                                   spoken_languages    status  \\\n",
       "0      NaN                                                NaN       NaN   \n",
       "1    118.0  [{'english_name': 'Italian', 'iso_639_1': 'it'...  Released   \n",
       "2    140.0  [{'english_name': 'Indonesian', 'iso_639_1': '...  Released   \n",
       "3     90.0  [{'english_name': 'Spanish', 'iso_639_1': 'es'...  Released   \n",
       "4     90.0  [{'english_name': 'English', 'iso_639_1': 'en'...  Released   \n",
       "\n",
       "                                             tagline  \\\n",
       "0                                                NaN   \n",
       "1  If they lived in the same century they'd be pe...   \n",
       "2                                                NaN   \n",
       "3     The laborers are back full of love and laughs.   \n",
       "4  They left him for dead... They should have fin...   \n",
       "\n",
       "                       title  video  vote_average vote_count certificiation  \n",
       "0                        NaN    NaN           NaN        NaN            NaN  \n",
       "1             Kate & Leopold    0.0         6.321     1145.0          PG-13  \n",
       "2              November 1828    0.0         0.000        0.0            NaN  \n",
       "3  El día de los albañiles 2    0.0         7.200       71.0            NaN  \n",
       "4           The Silent Force    0.0         5.000        3.0            NaN  \n",
       "\n",
       "[5 rows x 26 columns]"
      ]
     },
     "execution_count": 5,
     "metadata": {},
     "output_type": "execute_result"
    }
   ],
   "source": [
    "df_2001 = pd.read_csv('Data/final_tmdb_data_2001.csv.gz')\n",
    "df_2001.head()"
   ]
  },
  {
   "cell_type": "code",
   "execution_count": 6,
   "id": "fb401731",
   "metadata": {},
   "outputs": [
    {
     "name": "stdout",
     "output_type": "stream",
     "text": [
      "<class 'pandas.core.frame.DataFrame'>\n",
      "RangeIndex: 2261 entries, 0 to 2260\n",
      "Data columns (total 26 columns):\n",
      " #   Column                 Non-Null Count  Dtype  \n",
      "---  ------                 --------------  -----  \n",
      " 0   imdb_id                2261 non-null   object \n",
      " 1   adult                  2260 non-null   float64\n",
      " 2   backdrop_path          974 non-null    object \n",
      " 3   belongs_to_collection  116 non-null    object \n",
      " 4   budget                 2260 non-null   float64\n",
      " 5   genres                 2260 non-null   object \n",
      " 6   homepage               141 non-null    object \n",
      " 7   id                     2260 non-null   float64\n",
      " 8   original_language      2260 non-null   object \n",
      " 9   original_title         2260 non-null   object \n",
      " 10  overview               2090 non-null   object \n",
      " 11  popularity             2260 non-null   float64\n",
      " 12  poster_path            1915 non-null   object \n",
      " 13  production_companies   2260 non-null   object \n",
      " 14  production_countries   2260 non-null   object \n",
      " 15  release_date           2241 non-null   object \n",
      " 16  revenue                2260 non-null   float64\n",
      " 17  runtime                2260 non-null   float64\n",
      " 18  spoken_languages       2260 non-null   object \n",
      " 19  status                 2260 non-null   object \n",
      " 20  tagline                622 non-null    object \n",
      " 21  title                  2260 non-null   object \n",
      " 22  video                  2260 non-null   float64\n",
      " 23  vote_average           2260 non-null   float64\n",
      " 24  vote_count             2260 non-null   float64\n",
      " 25  certificiation         433 non-null    object \n",
      "dtypes: float64(9), object(17)\n",
      "memory usage: 459.4+ KB\n"
     ]
    }
   ],
   "source": [
    "df_2001.info()"
   ]
  },
  {
   "cell_type": "code",
   "execution_count": 7,
   "id": "6811372d",
   "metadata": {},
   "outputs": [
    {
     "data": {
      "text/plain": [
       "0"
      ]
     },
     "execution_count": 7,
     "metadata": {},
     "output_type": "execute_result"
    }
   ],
   "source": [
    "df_2001.duplicated().sum()"
   ]
  },
  {
   "cell_type": "code",
   "execution_count": 8,
   "id": "28552cb5",
   "metadata": {},
   "outputs": [],
   "source": [
    "df1 = df_2000\n",
    "\n",
    "df2 = df_2001\n",
    "\n",
    "frames = [df1, df2]\n",
    "\n",
    "merged = pd.concat(frames)"
   ]
  },
  {
   "cell_type": "code",
   "execution_count": 9,
   "id": "678d3380",
   "metadata": {
    "scrolled": true
   },
   "outputs": [
    {
     "data": {
      "text/html": [
       "<div>\n",
       "<style scoped>\n",
       "    .dataframe tbody tr th:only-of-type {\n",
       "        vertical-align: middle;\n",
       "    }\n",
       "\n",
       "    .dataframe tbody tr th {\n",
       "        vertical-align: top;\n",
       "    }\n",
       "\n",
       "    .dataframe thead th {\n",
       "        text-align: right;\n",
       "    }\n",
       "</style>\n",
       "<table border=\"1\" class=\"dataframe\">\n",
       "  <thead>\n",
       "    <tr style=\"text-align: right;\">\n",
       "      <th></th>\n",
       "      <th>imdb_id</th>\n",
       "      <th>adult</th>\n",
       "      <th>backdrop_path</th>\n",
       "      <th>belongs_to_collection</th>\n",
       "      <th>budget</th>\n",
       "      <th>genres</th>\n",
       "      <th>homepage</th>\n",
       "      <th>id</th>\n",
       "      <th>original_language</th>\n",
       "      <th>original_title</th>\n",
       "      <th>...</th>\n",
       "      <th>revenue</th>\n",
       "      <th>runtime</th>\n",
       "      <th>spoken_languages</th>\n",
       "      <th>status</th>\n",
       "      <th>tagline</th>\n",
       "      <th>title</th>\n",
       "      <th>video</th>\n",
       "      <th>vote_average</th>\n",
       "      <th>vote_count</th>\n",
       "      <th>certificiation</th>\n",
       "    </tr>\n",
       "  </thead>\n",
       "  <tbody>\n",
       "    <tr>\n",
       "      <th>0</th>\n",
       "      <td>0</td>\n",
       "      <td>NaN</td>\n",
       "      <td>NaN</td>\n",
       "      <td>NaN</td>\n",
       "      <td>NaN</td>\n",
       "      <td>NaN</td>\n",
       "      <td>NaN</td>\n",
       "      <td>NaN</td>\n",
       "      <td>NaN</td>\n",
       "      <td>NaN</td>\n",
       "      <td>...</td>\n",
       "      <td>NaN</td>\n",
       "      <td>NaN</td>\n",
       "      <td>NaN</td>\n",
       "      <td>NaN</td>\n",
       "      <td>NaN</td>\n",
       "      <td>NaN</td>\n",
       "      <td>NaN</td>\n",
       "      <td>NaN</td>\n",
       "      <td>NaN</td>\n",
       "      <td>NaN</td>\n",
       "    </tr>\n",
       "    <tr>\n",
       "      <th>1</th>\n",
       "      <td>tt0035423</td>\n",
       "      <td>0.0</td>\n",
       "      <td>/ab5yL8zgRotrICzGbEl10z24N71.jpg</td>\n",
       "      <td>NaN</td>\n",
       "      <td>48000000.0</td>\n",
       "      <td>[{'id': 35, 'name': 'Comedy'}, {'id': 14, 'nam...</td>\n",
       "      <td>NaN</td>\n",
       "      <td>11232.0</td>\n",
       "      <td>en</td>\n",
       "      <td>Kate &amp; Leopold</td>\n",
       "      <td>...</td>\n",
       "      <td>76019048.0</td>\n",
       "      <td>118.0</td>\n",
       "      <td>[{'english_name': 'Italian', 'iso_639_1': 'it'...</td>\n",
       "      <td>Released</td>\n",
       "      <td>If they lived in the same century they'd be pe...</td>\n",
       "      <td>Kate &amp; Leopold</td>\n",
       "      <td>0.0</td>\n",
       "      <td>6.321</td>\n",
       "      <td>1145.0</td>\n",
       "      <td>PG-13</td>\n",
       "    </tr>\n",
       "    <tr>\n",
       "      <th>2</th>\n",
       "      <td>tt0062336</td>\n",
       "      <td>0.0</td>\n",
       "      <td>/fw5tsNib4QZBEw18xmebpVe3WZ8.jpg</td>\n",
       "      <td>NaN</td>\n",
       "      <td>0.0</td>\n",
       "      <td>[{'id': 18, 'name': 'Drama'}, {'id': 14, 'name...</td>\n",
       "      <td>http://poetastros.com/el-tango-del-viudo/</td>\n",
       "      <td>602986.0</td>\n",
       "      <td>es</td>\n",
       "      <td>El tango del viudo y su espejo deformante</td>\n",
       "      <td>...</td>\n",
       "      <td>0.0</td>\n",
       "      <td>63.0</td>\n",
       "      <td>[{'english_name': 'Spanish', 'iso_639_1': 'es'...</td>\n",
       "      <td>Released</td>\n",
       "      <td>NaN</td>\n",
       "      <td>The Tango of the Widower and Its Distorting Mi...</td>\n",
       "      <td>0.0</td>\n",
       "      <td>5.500</td>\n",
       "      <td>4.0</td>\n",
       "      <td>NaN</td>\n",
       "    </tr>\n",
       "  </tbody>\n",
       "</table>\n",
       "<p>3 rows × 26 columns</p>\n",
       "</div>"
      ],
      "text/plain": [
       "     imdb_id  adult                     backdrop_path belongs_to_collection  \\\n",
       "0          0    NaN                               NaN                   NaN   \n",
       "1  tt0035423    0.0  /ab5yL8zgRotrICzGbEl10z24N71.jpg                   NaN   \n",
       "2  tt0062336    0.0  /fw5tsNib4QZBEw18xmebpVe3WZ8.jpg                   NaN   \n",
       "\n",
       "       budget                                             genres  \\\n",
       "0         NaN                                                NaN   \n",
       "1  48000000.0  [{'id': 35, 'name': 'Comedy'}, {'id': 14, 'nam...   \n",
       "2         0.0  [{'id': 18, 'name': 'Drama'}, {'id': 14, 'name...   \n",
       "\n",
       "                                    homepage        id original_language  \\\n",
       "0                                        NaN       NaN               NaN   \n",
       "1                                        NaN   11232.0                en   \n",
       "2  http://poetastros.com/el-tango-del-viudo/  602986.0                es   \n",
       "\n",
       "                              original_title  ...     revenue  runtime  \\\n",
       "0                                        NaN  ...         NaN      NaN   \n",
       "1                             Kate & Leopold  ...  76019048.0    118.0   \n",
       "2  El tango del viudo y su espejo deformante  ...         0.0     63.0   \n",
       "\n",
       "                                    spoken_languages    status  \\\n",
       "0                                                NaN       NaN   \n",
       "1  [{'english_name': 'Italian', 'iso_639_1': 'it'...  Released   \n",
       "2  [{'english_name': 'Spanish', 'iso_639_1': 'es'...  Released   \n",
       "\n",
       "                                             tagline  \\\n",
       "0                                                NaN   \n",
       "1  If they lived in the same century they'd be pe...   \n",
       "2                                                NaN   \n",
       "\n",
       "                                               title  video  vote_average  \\\n",
       "0                                                NaN    NaN           NaN   \n",
       "1                                     Kate & Leopold    0.0         6.321   \n",
       "2  The Tango of the Widower and Its Distorting Mi...    0.0         5.500   \n",
       "\n",
       "  vote_count certificiation  \n",
       "0        NaN            NaN  \n",
       "1     1145.0          PG-13  \n",
       "2        4.0            NaN  \n",
       "\n",
       "[3 rows x 26 columns]"
      ]
     },
     "execution_count": 9,
     "metadata": {},
     "output_type": "execute_result"
    }
   ],
   "source": [
    "\n",
    "merged.head(3)"
   ]
  },
  {
   "cell_type": "code",
   "execution_count": 10,
   "id": "9da35440",
   "metadata": {},
   "outputs": [
    {
     "name": "stdout",
     "output_type": "stream",
     "text": [
      "<class 'pandas.core.frame.DataFrame'>\n",
      "Int64Index: 4741 entries, 0 to 2260\n",
      "Data columns (total 26 columns):\n",
      " #   Column                 Non-Null Count  Dtype  \n",
      "---  ------                 --------------  -----  \n",
      " 0   imdb_id                4741 non-null   object \n",
      " 1   adult                  4739 non-null   float64\n",
      " 2   backdrop_path          2096 non-null   object \n",
      " 3   belongs_to_collection  275 non-null    object \n",
      " 4   budget                 4739 non-null   float64\n",
      " 5   genres                 4739 non-null   object \n",
      " 6   homepage               265 non-null    object \n",
      " 7   id                     4739 non-null   float64\n",
      " 8   original_language      4739 non-null   object \n",
      " 9   original_title         4739 non-null   object \n",
      " 10  overview               4381 non-null   object \n",
      " 11  popularity             4739 non-null   float64\n",
      " 12  poster_path            4014 non-null   object \n",
      " 13  production_companies   4739 non-null   object \n",
      " 14  production_countries   4739 non-null   object \n",
      " 15  release_date           4702 non-null   object \n",
      " 16  revenue                4739 non-null   float64\n",
      " 17  runtime                4739 non-null   float64\n",
      " 18  spoken_languages       4739 non-null   object \n",
      " 19  status                 4739 non-null   object \n",
      " 20  tagline                1378 non-null   object \n",
      " 21  title                  4739 non-null   object \n",
      " 22  video                  4739 non-null   float64\n",
      " 23  vote_average           4739 non-null   float64\n",
      " 24  vote_count             4739 non-null   float64\n",
      " 25  certificiation         948 non-null    object \n",
      "dtypes: float64(9), object(17)\n",
      "memory usage: 1000.1+ KB\n"
     ]
    }
   ],
   "source": [
    "merged.info()"
   ]
  },
  {
   "cell_type": "code",
   "execution_count": 11,
   "id": "c33c3559",
   "metadata": {},
   "outputs": [],
   "source": [
    "eda_merged=merged.copy()"
   ]
  },
  {
   "cell_type": "code",
   "execution_count": 12,
   "id": "e5a1f803",
   "metadata": {},
   "outputs": [],
   "source": [
    "eda_merged.dropna(inplace=True)"
   ]
  },
  {
   "cell_type": "code",
   "execution_count": 13,
   "id": "13e29241",
   "metadata": {},
   "outputs": [
    {
     "data": {
      "text/plain": [
       "imdb_id                  0\n",
       "adult                    0\n",
       "backdrop_path            0\n",
       "belongs_to_collection    0\n",
       "budget                   0\n",
       "genres                   0\n",
       "homepage                 0\n",
       "id                       0\n",
       "original_language        0\n",
       "original_title           0\n",
       "overview                 0\n",
       "popularity               0\n",
       "poster_path              0\n",
       "production_companies     0\n",
       "production_countries     0\n",
       "release_date             0\n",
       "revenue                  0\n",
       "runtime                  0\n",
       "spoken_languages         0\n",
       "status                   0\n",
       "tagline                  0\n",
       "title                    0\n",
       "video                    0\n",
       "vote_average             0\n",
       "vote_count               0\n",
       "certificiation           0\n",
       "dtype: int64"
      ]
     },
     "execution_count": 13,
     "metadata": {},
     "output_type": "execute_result"
    }
   ],
   "source": [
    "eda_merged.isna().sum()"
   ]
  },
  {
   "cell_type": "code",
   "execution_count": 14,
   "id": "22b19cd6",
   "metadata": {},
   "outputs": [
    {
     "data": {
      "text/plain": [
       "60000000.0     3\n",
       "93000000.0     2\n",
       "115000000.0    2\n",
       "10000000.0     2\n",
       "0.0            2\n",
       "113000000.0    1\n",
       "140000000.0    1\n",
       "1500000.0      1\n",
       "22000000.0     1\n",
       "1200000.0      1\n",
       "125000000.0    1\n",
       "85000000.0     1\n",
       "38000000.0     1\n",
       "120000000.0    1\n",
       "30000000.0     1\n",
       "16000000.0     1\n",
       "28000000.0     1\n",
       "75000000.0     1\n",
       "54000000.0     1\n",
       "33000000.0     1\n",
       "130000000.0    1\n",
       "79000000.0     1\n",
       "94000000.0     1\n",
       "92000000.0     1\n",
       "139000000.0    1\n",
       "23000000.0     1\n",
       "200000000.0    1\n",
       "Name: budget, dtype: int64"
      ]
     },
     "execution_count": 14,
     "metadata": {},
     "output_type": "execute_result"
    }
   ],
   "source": [
    "eda_merged['budget'].value_counts()"
   ]
  },
  {
   "cell_type": "code",
   "execution_count": 15,
   "id": "3ad16c1a",
   "metadata": {},
   "outputs": [
    {
     "data": {
      "text/plain": [
       "0.000000e+00    3\n",
       "8.713684e+08    2\n",
       "5.797077e+08    2\n",
       "4.878533e+08    2\n",
       "5.921779e+07    1\n",
       "3.378816e+07    1\n",
       "1.849236e+07    1\n",
       "9.764756e+08    1\n",
       "4.507172e+08    1\n",
       "9.337515e+07    1\n",
       "2.072839e+08    1\n",
       "1.860537e+08    1\n",
       "2.361961e+07    1\n",
       "6.841128e+07    1\n",
       "9.044993e+07    1\n",
       "1.550100e+08    1\n",
       "1.029849e+08    1\n",
       "4.350000e+08    1\n",
       "2.733396e+08    1\n",
       "9.262874e+08    1\n",
       "1.118889e+09    1\n",
       "2.641055e+08    1\n",
       "8.217086e+08    1\n",
       "5.318766e+07    1\n",
       "8.500000e+08    1\n",
       "4.451353e+08    1\n",
       "2.963395e+08    1\n",
       "2.802356e+07    1\n",
       "Name: revenue, dtype: int64"
      ]
     },
     "execution_count": 15,
     "metadata": {},
     "output_type": "execute_result"
    }
   ],
   "source": [
    "eda_merged['revenue'].value_counts()"
   ]
  },
  {
   "cell_type": "code",
   "execution_count": 16,
   "id": "dc2ff2e7",
   "metadata": {},
   "outputs": [
    {
     "data": {
      "text/plain": [
       "51       93000000.0\n",
       "54       33000000.0\n",
       "57       75000000.0\n",
       "58      140000000.0\n",
       "63      113000000.0\n",
       "72       60000000.0\n",
       "83       10000000.0\n",
       "90       23000000.0\n",
       "123     139000000.0\n",
       "184      92000000.0\n",
       "282      94000000.0\n",
       "283      79000000.0\n",
       "319     130000000.0\n",
       "404     200000000.0\n",
       "465      54000000.0\n",
       "611     115000000.0\n",
       "727      28000000.0\n",
       "1214     16000000.0\n",
       "13       93000000.0\n",
       "19       60000000.0\n",
       "115     115000000.0\n",
       "244      30000000.0\n",
       "278     120000000.0\n",
       "289      38000000.0\n",
       "337      60000000.0\n",
       "355      85000000.0\n",
       "361     125000000.0\n",
       "481       1200000.0\n",
       "687      22000000.0\n",
       "711      10000000.0\n",
       "742       1500000.0\n",
       "Name: budget, dtype: float64"
      ]
     },
     "execution_count": 16,
     "metadata": {},
     "output_type": "execute_result"
    }
   ],
   "source": [
    "eda_merged=eda_merged[(eda_merged['budget']>0)]\n",
    "eda_merged['budget']"
   ]
  },
  {
   "cell_type": "code",
   "execution_count": 17,
   "id": "893baf9f",
   "metadata": {},
   "outputs": [
    {
     "data": {
      "text/plain": [
       "51      8.713684e+08\n",
       "54      1.029849e+08\n",
       "57      2.963395e+08\n",
       "58      4.451353e+08\n",
       "63      8.500000e+08\n",
       "72      4.878533e+08\n",
       "90      5.318766e+07\n",
       "123     8.217086e+08\n",
       "184     2.641055e+08\n",
       "282     1.118889e+09\n",
       "283     9.262874e+08\n",
       "319     2.733396e+08\n",
       "404     4.350000e+08\n",
       "465     1.550100e+08\n",
       "611     5.797077e+08\n",
       "727     9.044993e+07\n",
       "1214    6.841128e+07\n",
       "13      8.713684e+08\n",
       "19      4.878533e+08\n",
       "115     5.797077e+08\n",
       "244     2.361961e+07\n",
       "278     1.860537e+08\n",
       "289     2.072839e+08\n",
       "337     9.337515e+07\n",
       "355     4.507172e+08\n",
       "361     9.764756e+08\n",
       "481     1.849236e+07\n",
       "687     3.378816e+07\n",
       "711     5.921779e+07\n",
       "Name: revenue, dtype: float64"
      ]
     },
     "execution_count": 17,
     "metadata": {},
     "output_type": "execute_result"
    }
   ],
   "source": [
    "eda_merged=eda_merged[(eda_merged['revenue']>0)]\n",
    "eda_merged['revenue']"
   ]
  },
  {
   "cell_type": "markdown",
   "id": "f445b218",
   "metadata": {},
   "source": [
    "Question 1. How many movies had at least some valid financial information?"
   ]
  },
  {
   "cell_type": "code",
   "execution_count": 18,
   "id": "176e6c80",
   "metadata": {},
   "outputs": [
    {
     "data": {
      "text/plain": [
       "budget       revenue     \n",
       "1200000.0    1.849236e+07    1\n",
       "10000000.0   5.921779e+07    1\n",
       "16000000.0   6.841128e+07    1\n",
       "22000000.0   3.378816e+07    1\n",
       "23000000.0   5.318766e+07    1\n",
       "28000000.0   9.044993e+07    1\n",
       "30000000.0   2.361961e+07    1\n",
       "33000000.0   1.029849e+08    1\n",
       "38000000.0   2.072839e+08    1\n",
       "54000000.0   1.550100e+08    1\n",
       "60000000.0   4.878533e+08    2\n",
       "             9.337515e+07    1\n",
       "75000000.0   2.963395e+08    1\n",
       "79000000.0   9.262874e+08    1\n",
       "85000000.0   4.507172e+08    1\n",
       "92000000.0   2.641055e+08    1\n",
       "93000000.0   8.713684e+08    2\n",
       "94000000.0   1.118889e+09    1\n",
       "113000000.0  8.500000e+08    1\n",
       "115000000.0  5.797077e+08    2\n",
       "120000000.0  1.860537e+08    1\n",
       "125000000.0  9.764756e+08    1\n",
       "130000000.0  2.733396e+08    1\n",
       "139000000.0  8.217086e+08    1\n",
       "140000000.0  4.451353e+08    1\n",
       "200000000.0  4.350000e+08    1\n",
       "Name: revenue, dtype: int64"
      ]
     },
     "execution_count": 18,
     "metadata": {},
     "output_type": "execute_result"
    }
   ],
   "source": [
    "eda_merged.groupby('budget')['revenue'].value_counts()"
   ]
  },
  {
   "cell_type": "code",
   "execution_count": 19,
   "id": "16758ed6",
   "metadata": {},
   "outputs": [
    {
     "data": {
      "text/plain": [
       "(array([ 0,  1,  2,  3,  4,  5,  6,  7,  8,  9, 10, 11, 12, 13, 14, 15, 16,\n",
       "        17, 18, 19, 20, 21, 22, 23, 24]),\n",
       " [Text(0, 0, '60000000.0'),\n",
       "  Text(1, 0, '93000000.0'),\n",
       "  Text(2, 0, '115000000.0'),\n",
       "  Text(3, 0, '54000000.0'),\n",
       "  Text(4, 0, '22000000.0'),\n",
       "  Text(5, 0, '1200000.0'),\n",
       "  Text(6, 0, '125000000.0'),\n",
       "  Text(7, 0, '85000000.0'),\n",
       "  Text(8, 0, '38000000.0'),\n",
       "  Text(9, 0, '120000000.0'),\n",
       "  Text(10, 0, '30000000.0'),\n",
       "  Text(11, 0, '16000000.0'),\n",
       "  Text(12, 0, '28000000.0'),\n",
       "  Text(13, 0, '200000000.0'),\n",
       "  Text(14, 0, '33000000.0'),\n",
       "  Text(15, 0, '130000000.0'),\n",
       "  Text(16, 0, '79000000.0'),\n",
       "  Text(17, 0, '94000000.0'),\n",
       "  Text(18, 0, '92000000.0'),\n",
       "  Text(19, 0, '139000000.0'),\n",
       "  Text(20, 0, '23000000.0'),\n",
       "  Text(21, 0, '113000000.0'),\n",
       "  Text(22, 0, '140000000.0'),\n",
       "  Text(23, 0, '75000000.0'),\n",
       "  Text(24, 0, '10000000.0')])"
      ]
     },
     "execution_count": 19,
     "metadata": {},
     "output_type": "execute_result"
    },
    {
     "data": {
      "image/png": "[encoded data removed]",
      "text/plain": [
       "<Figure size 640x480 with 1 Axes>"
      ]
     },
     "metadata": {},
     "output_type": "display_data"
    }
   ],
   "source": [
    "eda_merged['budget'].value_counts().plot(kind='bar')\n",
    "plt.xticks(rotation=90)\n"
   ]
  },
  {
   "cell_type": "code",
   "execution_count": 20,
   "id": "a4f68c03",
   "metadata": {},
   "outputs": [
    {
     "data": {
      "text/plain": [
       "(array([ 0,  1,  2,  3,  4,  5,  6,  7,  8,  9, 10, 11, 12, 13, 14, 15, 16,\n",
       "        17, 18, 19, 20, 21, 22, 23, 24, 25]),\n",
       " [Text(0, 0, '871368364.0'),\n",
       "  Text(1, 0, '579707738.0'),\n",
       "  Text(2, 0, '487853320.0'),\n",
       "  Text(3, 0, '33788161.0'),\n",
       "  Text(4, 0, '18492362.0'),\n",
       "  Text(5, 0, '976475550.0'),\n",
       "  Text(6, 0, '450717150.0'),\n",
       "  Text(7, 0, '93375151.0'),\n",
       "  Text(8, 0, '207283925.0'),\n",
       "  Text(9, 0, '186053725.0'),\n",
       "  Text(10, 0, '23619609.0'),\n",
       "  Text(11, 0, '68411275.0'),\n",
       "  Text(12, 0, '90449929.0'),\n",
       "  Text(13, 0, '155010032.0'),\n",
       "  Text(14, 0, '102984862.0'),\n",
       "  Text(15, 0, '435000000.0'),\n",
       "  Text(16, 0, '273339556.0'),\n",
       "  Text(17, 0, '926287400.0'),\n",
       "  Text(18, 0, '1118888979.0'),\n",
       "  Text(19, 0, '264105545.0'),\n",
       "  Text(20, 0, '821708551.0'),\n",
       "  Text(21, 0, '53187659.0'),\n",
       "  Text(22, 0, '850000000.0'),\n",
       "  Text(23, 0, '445135288.0'),\n",
       "  Text(24, 0, '296339527.0'),\n",
       "  Text(25, 0, '59217789.0')])"
      ]
     },
     "execution_count": 20,
     "metadata": {},
     "output_type": "execute_result"
    },
    {
     "data": {
      "image/png": "[encoded data removed]",
      "text/plain": [
       "<Figure size 640x480 with 1 Axes>"
      ]
     },
     "metadata": {},
     "output_type": "display_data"
    }
   ],
   "source": [
    "eda_merged['revenue'].value_counts().plot(kind='bar')\n",
    "plt.xticks(rotation=90)\n"
   ]
  },
  {
   "cell_type": "markdown",
   "id": "fc4d3ae5",
   "metadata": {},
   "source": [
    "Question 2. How many movies are there in each of the certificiation categories (G/PG/PG-13/R)?"
   ]
  },
  {
   "cell_type": "code",
   "execution_count": 21,
   "id": "cd0c2a2f",
   "metadata": {},
   "outputs": [
    {
     "data": {
      "text/plain": [
       "PG-13    13\n",
       "R         8\n",
       "PG        5\n",
       "G         3\n",
       "Name: certificiation, dtype: int64"
      ]
     },
     "execution_count": 21,
     "metadata": {},
     "output_type": "execute_result"
    }
   ],
   "source": [
    "eda_merged['certificiation'].value_counts()"
   ]
  },
  {
   "cell_type": "code",
   "execution_count": 22,
   "id": "e10ef394",
   "metadata": {},
   "outputs": [
    {
     "data": {
      "text/plain": [
       "(array([0, 1, 2, 3]),\n",
       " [Text(0, 0, 'PG-13'), Text(1, 0, 'R'), Text(2, 0, 'PG'), Text(3, 0, 'G')])"
      ]
     },
     "execution_count": 22,
     "metadata": {},
     "output_type": "execute_result"
    },
    {
     "data": {
      "image/png": "[encoded data removed]",
      "text/plain": [
       "<Figure size 640x480 with 1 Axes>"
      ]
     },
     "metadata": {},
     "output_type": "display_data"
    }
   ],
   "source": [
    "eda_merged['certificiation'].value_counts().plot(kind='bar')\n",
    "plt.xticks(rotation=90)"
   ]
  },
  {
   "cell_type": "markdown",
   "id": "5b24111e",
   "metadata": {},
   "source": [
    "Question 3. What is the average revenue per certification category?"
   ]
  },
  {
   "cell_type": "code",
   "execution_count": 23,
   "id": "0992cf96",
   "metadata": {},
   "outputs": [
    {
     "data": {
      "text/plain": [
       "certificiation\n",
       "G        4.092756e+08\n",
       "PG       4.463222e+08\n",
       "PG-13    5.567133e+08\n",
       "R        1.413776e+08\n",
       "Name: revenue, dtype: float64"
      ]
     },
     "execution_count": 23,
     "metadata": {},
     "output_type": "execute_result"
    }
   ],
   "source": [
    "eda_merged.groupby('certificiation')['revenue'].mean()"
   ]
  },
  {
   "cell_type": "code",
   "execution_count": 24,
   "id": "1143f4e0",
   "metadata": {},
   "outputs": [
    {
     "data": {
      "image/png": "[encoded data removed]",
      "text/plain": [
       "<Figure size 640x480 with 1 Axes>"
      ]
     },
     "metadata": {},
     "output_type": "display_data"
    }
   ],
   "source": [
    "ax = sns.barplot(data=eda_merged, x ='certificiation',y='revenue',ci=None)\n",
    "ax.set_xticklabels(ax.get_xticklabels(), rotation=90);"
   ]
  },
  {
   "cell_type": "markdown",
   "id": "f8d08378",
   "metadata": {},
   "source": [
    "Question 4. What is the average budget per certification category?"
   ]
  },
  {
   "cell_type": "code",
   "execution_count": 25,
   "id": "91e6ed27",
   "metadata": {},
   "outputs": [
    {
     "data": {
      "text/plain": [
       "certificiation\n",
       "G        8.200000e+07\n",
       "PG       8.500000e+07\n",
       "PG-13    8.453846e+07\n",
       "R        5.915000e+07\n",
       "Name: budget, dtype: float64"
      ]
     },
     "execution_count": 25,
     "metadata": {},
     "output_type": "execute_result"
    }
   ],
   "source": [
    "eda_merged.groupby('certificiation')['budget'].mean()"
   ]
  },
  {
   "cell_type": "code",
   "execution_count": 26,
   "id": "3faeffca",
   "metadata": {},
   "outputs": [
    {
     "data": {
      "image/png": "[encoded data removed]",
      "text/plain": [
       "<Figure size 640x480 with 1 Axes>"
      ]
     },
     "metadata": {},
     "output_type": "display_data"
    }
   ],
   "source": [
    "ax = sns.barplot(data=eda_merged, x ='certificiation',y='budget',ci=None)\n",
    "ax.set_xticklabels(ax.get_xticklabels(), rotation=90);"
   ]
  },
  {
   "cell_type": "code",
   "execution_count": null,
   "id": "300a5475",
   "metadata": {},
   "outputs": [],
   "source": []
  }
 ],
 "metadata": {
  "kernelspec": {
   "display_name": "Python 3 (ipykernel)",
   "language": "python",
   "name": "python3"
  },
  "language_info": {
   "codemirror_mode": {
    "name": "ipython",
    "version": 3
   },
   "file_extension": ".py",
   "mimetype": "text/x-python",
   "name": "python",
   "nbconvert_exporter": "python",
   "pygments_lexer": "ipython3",
   "version": "3.8.13"
  },
  "toc": {
   "base_numbering": 1,
   "nav_menu": {},
   "number_sections": false,
   "sideBar": true,
   "skip_h1_title": false,
   "title_cell": "Table of Contents",
   "title_sidebar": "Contents",
   "toc_cell": false,
   "toc_position": {},
   "toc_section_display": true,
   "toc_window_display": false
  }
 },
 "nbformat": 4,
 "nbformat_minor": 5
}
